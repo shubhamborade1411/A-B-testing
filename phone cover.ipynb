{
 "cells": [
  {
   "cell_type": "code",
   "execution_count": 1,
   "id": "9b61a39e",
   "metadata": {},
   "outputs": [],
   "source": [
    "import pandas as pd\n",
    "import numpy as np"
   ]
  },
  {
   "cell_type": "code",
   "execution_count": 2,
   "id": "8116be91",
   "metadata": {},
   "outputs": [],
   "source": [
    "df = pd.read_excel('Recommendation_data.xlsx')"
   ]
  },
  {
   "cell_type": "code",
   "execution_count": 3,
   "id": "50d2bb03",
   "metadata": {},
   "outputs": [
    {
     "data": {
      "text/html": [
       "<div>\n",
       "<style scoped>\n",
       "    .dataframe tbody tr th:only-of-type {\n",
       "        vertical-align: middle;\n",
       "    }\n",
       "\n",
       "    .dataframe tbody tr th {\n",
       "        vertical-align: top;\n",
       "    }\n",
       "\n",
       "    .dataframe thead th {\n",
       "        text-align: right;\n",
       "    }\n",
       "</style>\n",
       "<table border=\"1\" class=\"dataframe\">\n",
       "  <thead>\n",
       "    <tr style=\"text-align: right;\">\n",
       "      <th></th>\n",
       "      <th>customer_id</th>\n",
       "      <th>Recommendation_name</th>\n",
       "      <th>Recommendation_date</th>\n",
       "      <th>suggestion_type</th>\n",
       "      <th>purchase_flag</th>\n",
       "    </tr>\n",
       "  </thead>\n",
       "  <tbody>\n",
       "    <tr>\n",
       "      <th>0</th>\n",
       "      <td>1.0</td>\n",
       "      <td>Recommend_screenguard</td>\n",
       "      <td>2021-07-02</td>\n",
       "      <td>With phone</td>\n",
       "      <td>0.0</td>\n",
       "    </tr>\n",
       "    <tr>\n",
       "      <th>1</th>\n",
       "      <td>2.0</td>\n",
       "      <td>Recommend_screenguard</td>\n",
       "      <td>2021-07-03</td>\n",
       "      <td>With phone</td>\n",
       "      <td>0.0</td>\n",
       "    </tr>\n",
       "    <tr>\n",
       "      <th>2</th>\n",
       "      <td>3.0</td>\n",
       "      <td>Recommend_screenguard</td>\n",
       "      <td>2021-07-04</td>\n",
       "      <td>With cover</td>\n",
       "      <td>1.0</td>\n",
       "    </tr>\n",
       "    <tr>\n",
       "      <th>3</th>\n",
       "      <td>4.0</td>\n",
       "      <td>Recommend_screenguard</td>\n",
       "      <td>2021-07-05</td>\n",
       "      <td>With phone</td>\n",
       "      <td>0.0</td>\n",
       "    </tr>\n",
       "    <tr>\n",
       "      <th>4</th>\n",
       "      <td>5.0</td>\n",
       "      <td>Recommend_screenguard</td>\n",
       "      <td>2021-07-06</td>\n",
       "      <td>With cover</td>\n",
       "      <td>1.0</td>\n",
       "    </tr>\n",
       "    <tr>\n",
       "      <th>...</th>\n",
       "      <td>...</td>\n",
       "      <td>...</td>\n",
       "      <td>...</td>\n",
       "      <td>...</td>\n",
       "      <td>...</td>\n",
       "    </tr>\n",
       "    <tr>\n",
       "      <th>863</th>\n",
       "      <td>864.0</td>\n",
       "      <td>Recommend_screenguard</td>\n",
       "      <td>2023-11-12</td>\n",
       "      <td>With cover</td>\n",
       "      <td>1.0</td>\n",
       "    </tr>\n",
       "    <tr>\n",
       "      <th>864</th>\n",
       "      <td>865.0</td>\n",
       "      <td>Recommend_screenguard</td>\n",
       "      <td>2023-11-13</td>\n",
       "      <td>With phone</td>\n",
       "      <td>1.0</td>\n",
       "    </tr>\n",
       "    <tr>\n",
       "      <th>865</th>\n",
       "      <td>866.0</td>\n",
       "      <td>Recommend_screenguard</td>\n",
       "      <td>2023-11-14</td>\n",
       "      <td>With cover</td>\n",
       "      <td>1.0</td>\n",
       "    </tr>\n",
       "    <tr>\n",
       "      <th>866</th>\n",
       "      <td>867.0</td>\n",
       "      <td>Recommend_screenguard</td>\n",
       "      <td>2023-11-15</td>\n",
       "      <td>With phone</td>\n",
       "      <td>1.0</td>\n",
       "    </tr>\n",
       "    <tr>\n",
       "      <th>867</th>\n",
       "      <td>868.0</td>\n",
       "      <td>Recommend_screenguard</td>\n",
       "      <td>2023-11-16</td>\n",
       "      <td>With cover</td>\n",
       "      <td>1.0</td>\n",
       "    </tr>\n",
       "  </tbody>\n",
       "</table>\n",
       "<p>868 rows × 5 columns</p>\n",
       "</div>"
      ],
      "text/plain": [
       "     customer_id    Recommendation_name Recommendation_date suggestion_type  \\\n",
       "0            1.0  Recommend_screenguard          2021-07-02      With phone   \n",
       "1            2.0  Recommend_screenguard          2021-07-03      With phone   \n",
       "2            3.0  Recommend_screenguard          2021-07-04      With cover   \n",
       "3            4.0  Recommend_screenguard          2021-07-05      With phone   \n",
       "4            5.0  Recommend_screenguard          2021-07-06      With cover   \n",
       "..           ...                    ...                 ...             ...   \n",
       "863        864.0  Recommend_screenguard          2023-11-12      With cover   \n",
       "864        865.0  Recommend_screenguard          2023-11-13      With phone   \n",
       "865        866.0  Recommend_screenguard          2023-11-14      With cover   \n",
       "866        867.0  Recommend_screenguard          2023-11-15      With phone   \n",
       "867        868.0  Recommend_screenguard          2023-11-16      With cover   \n",
       "\n",
       "     purchase_flag  \n",
       "0              0.0  \n",
       "1              0.0  \n",
       "2              1.0  \n",
       "3              0.0  \n",
       "4              1.0  \n",
       "..             ...  \n",
       "863            1.0  \n",
       "864            1.0  \n",
       "865            1.0  \n",
       "866            1.0  \n",
       "867            1.0  \n",
       "\n",
       "[868 rows x 5 columns]"
      ]
     },
     "execution_count": 3,
     "metadata": {},
     "output_type": "execute_result"
    }
   ],
   "source": [
    "df"
   ]
  },
  {
   "cell_type": "code",
   "execution_count": 4,
   "id": "7b1832e7",
   "metadata": {},
   "outputs": [
    {
     "name": "stdout",
     "output_type": "stream",
     "text": [
      "<class 'pandas.core.frame.DataFrame'>\n",
      "RangeIndex: 868 entries, 0 to 867\n",
      "Data columns (total 5 columns):\n",
      " #   Column               Non-Null Count  Dtype         \n",
      "---  ------               --------------  -----         \n",
      " 0   customer_id          711 non-null    float64       \n",
      " 1   Recommendation_name  711 non-null    object        \n",
      " 2   Recommendation_date  711 non-null    datetime64[ns]\n",
      " 3   suggestion_type      711 non-null    object        \n",
      " 4   purchase_flag        711 non-null    float64       \n",
      "dtypes: datetime64[ns](1), float64(2), object(2)\n",
      "memory usage: 34.0+ KB\n"
     ]
    }
   ],
   "source": [
    "df.info()"
   ]
  },
  {
   "cell_type": "code",
   "execution_count": 5,
   "id": "6f99babd",
   "metadata": {},
   "outputs": [
    {
     "data": {
      "text/plain": [
       "With phone    375\n",
       "With cover    336\n",
       "Name: suggestion_type, dtype: int64"
      ]
     },
     "execution_count": 5,
     "metadata": {},
     "output_type": "execute_result"
    }
   ],
   "source": [
    "df['suggestion_type'].value_counts()"
   ]
  },
  {
   "cell_type": "code",
   "execution_count": 6,
   "id": "7c57d511",
   "metadata": {},
   "outputs": [
    {
     "data": {
      "text/plain": [
       "customer_id            157\n",
       "Recommendation_name    157\n",
       "Recommendation_date    157\n",
       "suggestion_type        157\n",
       "purchase_flag          157\n",
       "dtype: int64"
      ]
     },
     "execution_count": 6,
     "metadata": {},
     "output_type": "execute_result"
    }
   ],
   "source": [
    "df.isnull().sum()"
   ]
  },
  {
   "cell_type": "code",
   "execution_count": null,
   "id": "c1eccb83",
   "metadata": {},
   "outputs": [],
   "source": []
  },
  {
   "cell_type": "code",
   "execution_count": null,
   "id": "9f029a71",
   "metadata": {},
   "outputs": [],
   "source": []
  },
  {
   "cell_type": "code",
   "execution_count": 9,
   "id": "def311ee",
   "metadata": {},
   "outputs": [],
   "source": [
    "df.dropna(inplace = True)"
   ]
  },
  {
   "cell_type": "code",
   "execution_count": 10,
   "id": "1683b16f",
   "metadata": {},
   "outputs": [
    {
     "data": {
      "text/html": [
       "<div>\n",
       "<style scoped>\n",
       "    .dataframe tbody tr th:only-of-type {\n",
       "        vertical-align: middle;\n",
       "    }\n",
       "\n",
       "    .dataframe tbody tr th {\n",
       "        vertical-align: top;\n",
       "    }\n",
       "\n",
       "    .dataframe thead th {\n",
       "        text-align: right;\n",
       "    }\n",
       "</style>\n",
       "<table border=\"1\" class=\"dataframe\">\n",
       "  <thead>\n",
       "    <tr style=\"text-align: right;\">\n",
       "      <th></th>\n",
       "      <th>customer_id</th>\n",
       "      <th>Recommendation_name</th>\n",
       "      <th>Recommendation_date</th>\n",
       "      <th>suggestion_type</th>\n",
       "      <th>purchase_flag</th>\n",
       "    </tr>\n",
       "  </thead>\n",
       "  <tbody>\n",
       "    <tr>\n",
       "      <th>0</th>\n",
       "      <td>1.0</td>\n",
       "      <td>Recommend_screenguard</td>\n",
       "      <td>2021-07-02</td>\n",
       "      <td>With phone</td>\n",
       "      <td>0.0</td>\n",
       "    </tr>\n",
       "    <tr>\n",
       "      <th>1</th>\n",
       "      <td>2.0</td>\n",
       "      <td>Recommend_screenguard</td>\n",
       "      <td>2021-07-03</td>\n",
       "      <td>With phone</td>\n",
       "      <td>0.0</td>\n",
       "    </tr>\n",
       "    <tr>\n",
       "      <th>2</th>\n",
       "      <td>3.0</td>\n",
       "      <td>Recommend_screenguard</td>\n",
       "      <td>2021-07-04</td>\n",
       "      <td>With cover</td>\n",
       "      <td>1.0</td>\n",
       "    </tr>\n",
       "    <tr>\n",
       "      <th>3</th>\n",
       "      <td>4.0</td>\n",
       "      <td>Recommend_screenguard</td>\n",
       "      <td>2021-07-05</td>\n",
       "      <td>With phone</td>\n",
       "      <td>0.0</td>\n",
       "    </tr>\n",
       "    <tr>\n",
       "      <th>4</th>\n",
       "      <td>5.0</td>\n",
       "      <td>Recommend_screenguard</td>\n",
       "      <td>2021-07-06</td>\n",
       "      <td>With cover</td>\n",
       "      <td>1.0</td>\n",
       "    </tr>\n",
       "    <tr>\n",
       "      <th>...</th>\n",
       "      <td>...</td>\n",
       "      <td>...</td>\n",
       "      <td>...</td>\n",
       "      <td>...</td>\n",
       "      <td>...</td>\n",
       "    </tr>\n",
       "    <tr>\n",
       "      <th>863</th>\n",
       "      <td>864.0</td>\n",
       "      <td>Recommend_screenguard</td>\n",
       "      <td>2023-11-12</td>\n",
       "      <td>With cover</td>\n",
       "      <td>1.0</td>\n",
       "    </tr>\n",
       "    <tr>\n",
       "      <th>864</th>\n",
       "      <td>865.0</td>\n",
       "      <td>Recommend_screenguard</td>\n",
       "      <td>2023-11-13</td>\n",
       "      <td>With phone</td>\n",
       "      <td>1.0</td>\n",
       "    </tr>\n",
       "    <tr>\n",
       "      <th>865</th>\n",
       "      <td>866.0</td>\n",
       "      <td>Recommend_screenguard</td>\n",
       "      <td>2023-11-14</td>\n",
       "      <td>With cover</td>\n",
       "      <td>1.0</td>\n",
       "    </tr>\n",
       "    <tr>\n",
       "      <th>866</th>\n",
       "      <td>867.0</td>\n",
       "      <td>Recommend_screenguard</td>\n",
       "      <td>2023-11-15</td>\n",
       "      <td>With phone</td>\n",
       "      <td>1.0</td>\n",
       "    </tr>\n",
       "    <tr>\n",
       "      <th>867</th>\n",
       "      <td>868.0</td>\n",
       "      <td>Recommend_screenguard</td>\n",
       "      <td>2023-11-16</td>\n",
       "      <td>With cover</td>\n",
       "      <td>1.0</td>\n",
       "    </tr>\n",
       "  </tbody>\n",
       "</table>\n",
       "<p>711 rows × 5 columns</p>\n",
       "</div>"
      ],
      "text/plain": [
       "     customer_id    Recommendation_name Recommendation_date suggestion_type  \\\n",
       "0            1.0  Recommend_screenguard          2021-07-02      With phone   \n",
       "1            2.0  Recommend_screenguard          2021-07-03      With phone   \n",
       "2            3.0  Recommend_screenguard          2021-07-04      With cover   \n",
       "3            4.0  Recommend_screenguard          2021-07-05      With phone   \n",
       "4            5.0  Recommend_screenguard          2021-07-06      With cover   \n",
       "..           ...                    ...                 ...             ...   \n",
       "863        864.0  Recommend_screenguard          2023-11-12      With cover   \n",
       "864        865.0  Recommend_screenguard          2023-11-13      With phone   \n",
       "865        866.0  Recommend_screenguard          2023-11-14      With cover   \n",
       "866        867.0  Recommend_screenguard          2023-11-15      With phone   \n",
       "867        868.0  Recommend_screenguard          2023-11-16      With cover   \n",
       "\n",
       "     purchase_flag  \n",
       "0              0.0  \n",
       "1              0.0  \n",
       "2              1.0  \n",
       "3              0.0  \n",
       "4              1.0  \n",
       "..             ...  \n",
       "863            1.0  \n",
       "864            1.0  \n",
       "865            1.0  \n",
       "866            1.0  \n",
       "867            1.0  \n",
       "\n",
       "[711 rows x 5 columns]"
      ]
     },
     "execution_count": 10,
     "metadata": {},
     "output_type": "execute_result"
    }
   ],
   "source": [
    "df"
   ]
  },
  {
   "cell_type": "code",
   "execution_count": null,
   "id": "f5c975f5",
   "metadata": {},
   "outputs": [],
   "source": []
  },
  {
   "cell_type": "code",
   "execution_count": 12,
   "id": "9ba7513a",
   "metadata": {},
   "outputs": [
    {
     "data": {
      "text/plain": [
       "suggestion_type  purchase_flag\n",
       "With cover       0.0              206\n",
       "                 1.0              130\n",
       "With phone       0.0              258\n",
       "                 1.0              117\n",
       "Name: purchase_flag, dtype: int64"
      ]
     },
     "execution_count": 12,
     "metadata": {},
     "output_type": "execute_result"
    }
   ],
   "source": [
    "df.groupby('suggestion_type')['purchase_flag'].value_counts()"
   ]
  },
  {
   "cell_type": "code",
   "execution_count": 1,
   "id": "156119b1",
   "metadata": {},
   "outputs": [],
   "source": [
    "#crosstab"
   ]
  },
  {
   "cell_type": "code",
   "execution_count": 17,
   "id": "96599b64",
   "metadata": {},
   "outputs": [
    {
     "data": {
      "text/plain": [
       "array([[206, 130],\n",
       "       [258, 117]], dtype=int64)"
      ]
     },
     "execution_count": 17,
     "metadata": {},
     "output_type": "execute_result"
    }
   ],
   "source": [
    "CT_tab = pd.crosstab(df['suggestion_type'], df['purchase_flag']).values\n",
    "CT_tab"
   ]
  },
  {
   "cell_type": "code",
   "execution_count": null,
   "id": "d60568dc",
   "metadata": {},
   "outputs": [],
   "source": []
  },
  {
   "cell_type": "code",
   "execution_count": 19,
   "id": "7ba835dd",
   "metadata": {},
   "outputs": [
    {
     "name": "stdout",
     "output_type": "stream",
     "text": [
      "0.312 0.3869047619047619\n"
     ]
    }
   ],
   "source": [
    "with_phone_rate = 117/(117+258)\n",
    "with_cover_rate = 130/(130+206)\n",
    "\n",
    "print(with_phone_rate, with_cover_rate)"
   ]
  },
  {
   "cell_type": "code",
   "execution_count": null,
   "id": "1cc29fc4",
   "metadata": {},
   "outputs": [],
   "source": []
  },
  {
   "cell_type": "code",
   "execution_count": 20,
   "id": "94be572c",
   "metadata": {},
   "outputs": [],
   "source": [
    "null_hypothesis = \"There is no relationship between purchase rate and recommendation type. They are independent\"\n",
    "alternate_hypothesis = \"There is a relationship between purchase rate and recommendation type. They are not independent\""
   ]
  },
  {
   "cell_type": "code",
   "execution_count": null,
   "id": "5348801e",
   "metadata": {},
   "outputs": [],
   "source": []
  },
  {
   "cell_type": "code",
   "execution_count": 21,
   "id": "848c321a",
   "metadata": {},
   "outputs": [
    {
     "name": "stdout",
     "output_type": "stream",
     "text": [
      "4.385751976925068 0.03624050241176425\n"
     ]
    }
   ],
   "source": [
    "from scipy.stats import chi2_contingency\n",
    "chi2_statistic, p_value, dof, expected_values = chi2_contingency(CT_tab, correction = False)\n",
    "print(chi2_statistic, p_value)"
   ]
  },
  {
   "cell_type": "code",
   "execution_count": null,
   "id": "4a92336e",
   "metadata": {},
   "outputs": [],
   "source": [
    " "
   ]
  },
  {
   "cell_type": "code",
   "execution_count": 22,
   "id": "35f47228",
   "metadata": {},
   "outputs": [
    {
     "name": "stdout",
     "output_type": "stream",
     "text": [
      "significance = 0.050 , p = 0.036\n",
      "Dependent, we can reject H0 safely\n"
     ]
    }
   ],
   "source": [
    "prob = 0.95\n",
    "alpha = 1.0 - prob\n",
    "print('significance = %.3f , p = %.3f' % (alpha, p_value))\n",
    "if p_value <= alpha:\n",
    "    print(\"Dependent, we can reject H0 safely\")\n",
    "else:\n",
    "    print(\"Independent, No sufficient evidence reject H0 safely\")"
   ]
  },
  {
   "cell_type": "markdown",
   "id": "4d4ee4b9",
   "metadata": {},
   "source": [
    "- So, A/B test specifies that we can reject H0 safely."
   ]
  },
  {
   "cell_type": "code",
   "execution_count": null,
   "id": "3c590065",
   "metadata": {},
   "outputs": [],
   "source": []
  }
 ],
 "metadata": {
  "kernelspec": {
   "display_name": "Python 3",
   "language": "python",
   "name": "python3"
  },
  "language_info": {
   "codemirror_mode": {
    "name": "ipython",
    "version": 3
   },
   "file_extension": ".py",
   "mimetype": "text/x-python",
   "name": "python",
   "nbconvert_exporter": "python",
   "pygments_lexer": "ipython3",
   "version": "3.8.8"
  }
 },
 "nbformat": 4,
 "nbformat_minor": 5
}
